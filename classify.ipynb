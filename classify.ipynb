{
 "cells": [
  {
   "cell_type": "code",
   "execution_count": 5,
   "metadata": {
    "collapsed": true
   },
   "outputs": [],
   "source": [
    "#!/usr/bin/env python2\n",
    "# -*- coding: utf-8 -*-\n",
    "\n",
    "import keras\n",
    "from keras.models import Sequential,Model\n",
    "from keras.layers import Dense, Dropout, Flatten, Activation\n",
    "from keras.layers import Conv2D, MaxPooling2D\n",
    "from keras.layers.normalization import BatchNormalization\n",
    "\n",
    "from keras import backend as K\n",
    "from keras.preprocessing import image\n",
    "import pandas as pd\n",
    "import numpy as np\n",
    "from scipy.misc import imresize\n",
    "import glob\n",
    "import os\n",
    "\n",
    "from keras.applications.vgg16 import VGG16\n",
    "from keras.preprocessing import image\n",
    "from keras.applications.vgg16 import preprocess_input"
   ]
  },
  {
   "cell_type": "code",
   "execution_count": 6,
   "metadata": {
    "collapsed": true
   },
   "outputs": [],
   "source": [
    "train_img=[]\n",
    "test_img=[]\n",
    "TRAIN_DIR='/dogsvcats/'\n",
    "train_cats = sorted(glob.glob(os.path.join(TRAIN_DIR, 'cat*.jpg')))\n",
    "train_dogs = sorted(glob.glob(os.path.join(TRAIN_DIR, 'dog*.jpg')))\n",
    "train_all = train_cats[:10000] + train_dogs[:10000]\n",
    "test_all = train_cats[10000:] + train_dogs[10000:]\n",
    "train_label = []\n",
    "test_label = []"
   ]
  },
  {
   "cell_type": "code",
   "execution_count": 7,
   "metadata": {
    "collapsed": true
   },
   "outputs": [],
   "source": [
    "for i in range(len((train_all))):\n",
    "    path=train_all[i]\n",
    "    temp_img=image.load_img(path,target_size=(128,128))\n",
    "    temp_img=image.img_to_array(temp_img)\n",
    "    if path.find('/cat.') != -1:\n",
    "        train_label.append(0)\n",
    "    else:\n",
    "        train_label.append(1)\n",
    "    train_img.append(temp_img)\n",
    "    \n",
    "for i in range(len((test_all))):\n",
    "    path=test_all[i]\n",
    "    temp_img=image.load_img(path,target_size=(128,128))\n",
    "    temp_img=image.img_to_array(temp_img)\n",
    "    if path.find('/cat.') != -1:\n",
    "        test_label.append(0)\n",
    "    else:\n",
    "        test_label.append(1)\n",
    "    test_img.append(temp_img)\n",
    "\n",
    "train_img=np.array(train_img) \n",
    "test_img=np.array(test_img) \n",
    "\n",
    "train_y=np.asarray(train_label)\n",
    "train_y=pd.get_dummies(train_y)\n",
    "train_y=np.array(train_y)\n",
    "\n",
    "\n",
    "test_y=np.asarray(test_label)\n",
    "test_y=pd.get_dummies(test_y)\n",
    "test_y=np.array(test_y)\n",
    "\n"
   ]
  },
  {
   "cell_type": "code",
   "execution_count": 8,
   "metadata": {
    "collapsed": true
   },
   "outputs": [],
   "source": [
    "train_img=preprocess_input(train_img)\n",
    "test_img=preprocess_input(test_img)\n",
    "\n"
   ]
  },
  {
   "cell_type": "code",
   "execution_count": 40,
   "metadata": {
    "collapsed": true
   },
   "outputs": [],
   "source": [
    "def vgg16_model(img_rows, img_cols, channel=1, num_classes=None):\n",
    "\n",
    "    model = VGG16(weights='imagenet', include_top=False,input_shape=(128,128,3))\n",
    "    model.layers.pop()\n",
    "\n",
    "\n",
    "    model.outputs = [model.layers[-1].output]\n",
    "\n",
    "    model.layers[-2].outbound_nodes = []\n",
    "    x=Conv2D(256, kernel_size=(2,2),strides=2)(model.output)\n",
    "    x = BatchNormalization()(x)\n",
    "    x = Activation('relu')(x)    \n",
    "    x=Conv2D(128, kernel_size=(2,2),strides=1)(x)\n",
    "    x = BatchNormalization()(x)\n",
    "    x = Activation('relu')(x)\n",
    "    x=Flatten()(x)\n",
    "    x=Dense(num_classes, activation='softmax')(x)\n",
    "\n",
    "    model=Model(model.input,x)\n",
    "\n",
    "    for layer in model.layers[:19]:\n",
    "\n",
    "        layer.trainable = False\n",
    "\n",
    "    model.compile(optimizer=\"adam\", loss='categorical_crossentropy', metrics=['accuracy'])\n",
    "\n",
    "    return model\n",
    "\n"
   ]
  },
  {
   "cell_type": "code",
   "execution_count": 41,
   "metadata": {
    "scrolled": true
   },
   "outputs": [
    {
     "name": "stdout",
     "output_type": "stream",
     "text": [
      "_________________________________________________________________\n",
      "Layer (type)                 Output Shape              Param #   \n",
      "=================================================================\n",
      "input_13 (InputLayer)        (None, 128, 128, 3)       0         \n",
      "_________________________________________________________________\n",
      "block1_conv1 (Conv2D)        (None, 128, 128, 64)      1792      \n",
      "_________________________________________________________________\n",
      "block1_conv2 (Conv2D)        (None, 128, 128, 64)      36928     \n",
      "_________________________________________________________________\n",
      "block1_pool (MaxPooling2D)   (None, 64, 64, 64)        0         \n",
      "_________________________________________________________________\n",
      "block2_conv1 (Conv2D)        (None, 64, 64, 128)       73856     \n",
      "_________________________________________________________________\n",
      "block2_conv2 (Conv2D)        (None, 64, 64, 128)       147584    \n",
      "_________________________________________________________________\n",
      "block2_pool (MaxPooling2D)   (None, 32, 32, 128)       0         \n",
      "_________________________________________________________________\n",
      "block3_conv1 (Conv2D)        (None, 32, 32, 256)       295168    \n",
      "_________________________________________________________________\n",
      "block3_conv2 (Conv2D)        (None, 32, 32, 256)       590080    \n",
      "_________________________________________________________________\n",
      "block3_conv3 (Conv2D)        (None, 32, 32, 256)       590080    \n",
      "_________________________________________________________________\n",
      "block3_pool (MaxPooling2D)   (None, 16, 16, 256)       0         \n",
      "_________________________________________________________________\n",
      "block4_conv1 (Conv2D)        (None, 16, 16, 512)       1180160   \n",
      "_________________________________________________________________\n",
      "block4_conv2 (Conv2D)        (None, 16, 16, 512)       2359808   \n",
      "_________________________________________________________________\n",
      "block4_conv3 (Conv2D)        (None, 16, 16, 512)       2359808   \n",
      "_________________________________________________________________\n",
      "block4_pool (MaxPooling2D)   (None, 8, 8, 512)         0         \n",
      "_________________________________________________________________\n",
      "block5_conv1 (Conv2D)        (None, 8, 8, 512)         2359808   \n",
      "_________________________________________________________________\n",
      "block5_conv2 (Conv2D)        (None, 8, 8, 512)         2359808   \n",
      "_________________________________________________________________\n",
      "block5_conv3 (Conv2D)        (None, 8, 8, 512)         2359808   \n",
      "_________________________________________________________________\n",
      "block5_pool (MaxPooling2D)   (None, 4, 4, 512)         0         \n",
      "_________________________________________________________________\n",
      "conv2d_21 (Conv2D)           (None, 2, 2, 256)         524544    \n",
      "_________________________________________________________________\n",
      "batch_normalization_21 (Batc (None, 2, 2, 256)         1024      \n",
      "_________________________________________________________________\n",
      "activation_21 (Activation)   (None, 2, 2, 256)         0         \n",
      "_________________________________________________________________\n",
      "conv2d_22 (Conv2D)           (None, 1, 1, 128)         131200    \n",
      "_________________________________________________________________\n",
      "batch_normalization_22 (Batc (None, 1, 1, 128)         512       \n",
      "_________________________________________________________________\n",
      "activation_22 (Activation)   (None, 1, 1, 128)         0         \n",
      "_________________________________________________________________\n",
      "flatten_11 (Flatten)         (None, 128)               0         \n",
      "_________________________________________________________________\n",
      "dense_11 (Dense)             (None, 2)                 258       \n",
      "=================================================================\n",
      "Total params: 15,372,226\n",
      "Trainable params: 656,770\n",
      "Non-trainable params: 14,715,456\n",
      "_________________________________________________________________\n"
     ]
    }
   ],
   "source": [
    "batch_size=128\n",
    "num_classes=2\n",
    "epochs=15\n",
    "input_shape=(128,128,3)\n",
    "img_rows,img_cols=128,128\n",
    "channel=3\n",
    "\n",
    "from sklearn.model_selection import train_test_split\n",
    "X_train, X_valid, Y_train, Y_valid=train_test_split(train_img,train_y,test_size=0.1, random_state=42)\n",
    "\n",
    "model = vgg16_model(img_rows, img_cols, channel, num_classes)\n",
    "model.summary()\n"
   ]
  },
  {
   "cell_type": "code",
   "execution_count": 42,
   "metadata": {},
   "outputs": [
    {
     "name": "stdout",
     "output_type": "stream",
     "text": [
      "Train on 18000 samples, validate on 2000 samples\n",
      "Epoch 1/5\n",
      "18000/18000 [==============================] - 131s - loss: 0.1135 - acc: 0.9541 - val_loss: 0.1009 - val_acc: 0.9665\n",
      "Epoch 2/5\n",
      "18000/18000 [==============================] - 131s - loss: 0.0450 - acc: 0.9847 - val_loss: 0.0993 - val_acc: 0.9635\n",
      "Epoch 3/5\n",
      "18000/18000 [==============================] - 131s - loss: 0.0231 - acc: 0.9920 - val_loss: 0.0996 - val_acc: 0.9675\n",
      "Epoch 4/5\n",
      "18000/18000 [==============================] - 131s - loss: 0.0160 - acc: 0.9944 - val_loss: 0.1201 - val_acc: 0.9630\n",
      "Epoch 5/5\n",
      "18000/18000 [==============================] - 131s - loss: 0.0084 - acc: 0.9978 - val_loss: 0.1186 - val_acc: 0.9660\n"
     ]
    },
    {
     "data": {
      "text/plain": [
       "<keras.callbacks.History at 0x7f3437d1f860>"
      ]
     },
     "execution_count": 42,
     "metadata": {},
     "output_type": "execute_result"
    }
   ],
   "source": [
    "model.fit(X_train, Y_train,\n",
    "          batch_size=batch_size,\n",
    "          epochs=5,\n",
    "          verbose=1,\n",
    "          validation_data=(X_valid,Y_valid))"
   ]
  },
  {
   "cell_type": "code",
   "execution_count": 43,
   "metadata": {},
   "outputs": [
    {
     "name": "stdout",
     "output_type": "stream",
     "text": [
      "Test loss: 0.142094750365\n",
      "Test accuracy: 0.962\n"
     ]
    }
   ],
   "source": [
    "score = model.evaluate(test_img, test_y, verbose=0)\n",
    "print('Test loss:', score[0])\n",
    "print('Test accuracy:', score[1])"
   ]
  },
  {
   "cell_type": "code",
   "execution_count": 44,
   "metadata": {
    "collapsed": true
   },
   "outputs": [],
   "source": [
    "model.save_weights(\"/output/vgg16_1.h5\")\n"
   ]
  }
 ],
 "metadata": {
  "kernelspec": {
   "display_name": "Python 2",
   "language": "python",
   "name": "python2"
  },
  "language_info": {
   "codemirror_mode": {
    "name": "ipython",
    "version": 2
   },
   "file_extension": ".py",
   "mimetype": "text/x-python",
   "name": "python",
   "nbconvert_exporter": "python",
   "pygments_lexer": "ipython2",
   "version": "2.7.13"
  }
 },
 "nbformat": 4,
 "nbformat_minor": 2
}
